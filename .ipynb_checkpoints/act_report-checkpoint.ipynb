{
 "cells": [
  {
   "cell_type": "markdown",
   "metadata": {},
   "source": [
    "**Insight 1 - Dog Breeds**: Golden Retriever was both the most tweetted and favorited dog breed, Pembroke Welsh Corgi and Labrador Retriever ranked the second and fourth respectively. There were a lot of people tweetted Pugs but interestingly they were not favorited as much, similar situation happened with Pomeranian, Chihuahua and Toy Poodle. On the other hand, French Bulldog and Chesapeake Bay Retriever received more favoriates compared to the number of tweets they appeared on."
   ]
  },
  {
   "cell_type": "markdown",
   "metadata": {},
   "source": [
    "![title](top_20_tweeted_breeds.png)"
   ]
  },
  {
   "cell_type": "markdown",
   "metadata": {},
   "source": [
    "![title](fav_top_20_tweeted_breeds.png)"
   ]
  },
  {
   "cell_type": "markdown",
   "metadata": {},
   "source": [
    "**Insight 2 - Rating Distribution**: Most people tended to \"over-rated\" their dogs slightly. As can be seen in the histogram below, most ratings fell between 1.0 to 1.3, meaning people like to \"spoil\" their dogs a little bit but not too much. Also the distribution has a left tail that indicates very few people tend to rate the dogs very low. "
   ]
  },
  {
   "cell_type": "markdown",
   "metadata": {},
   "source": [
    "![title](ratings_dist.png)"
   ]
  },
  {
   "cell_type": "markdown",
   "metadata": {},
   "source": [
    "**Insight 3 - Retweet vs Favorite**: A clear positive relationship can be seen from the scatterplot below, meaning the more favorites a tweet received, it was retweetted more. The majority of the points clustering in the lower left corner indicated that tweets tended to be favorited under 30000 times while retweeted below 10000 times from the WeRateDogs archieve data.  "
   ]
  },
  {
   "cell_type": "markdown",
   "metadata": {},
   "source": [
    "![title](fav_retweet_scatter.png)"
   ]
  },
  {
   "cell_type": "markdown",
   "metadata": {},
   "source": [
    "**Insight 4 - Time Series**: The archive data covered tweets from 2015-11 to 2017-8, it can be clearly seen from the first chart below that the WeRateDogs account was quite popular in 2015 when it first came out and got a lot of participants thus tweets, but seems like the trend did not maintain and slided down the following year with a more stable level of tweet volumne following on.\n",
    "\n",
    "On the other hand, however, as seen from the second Retweet and Favorite Trend, the number of favorites and retweets are not downwwarding (the small number in the last month 2017-08 may be due to data incompleteness), people tend to favorite more and more actually in 2017 compared to 2016. Retweet amount are pretty stable as well. So overall, it's hard to conclude that the account is no longer popular or people are no longer interested. It could be more like the way people interact with the content, shifting from tweeting/showcasing themselves to following/reading/favoriting/retweeting others. "
   ]
  },
  {
   "cell_type": "markdown",
   "metadata": {},
   "source": [
    "![title](tweet_trend.png)"
   ]
  },
  {
   "cell_type": "markdown",
   "metadata": {},
   "source": [
    "![title](retweet_fav_trend.png)"
   ]
  },
  {
   "cell_type": "code",
   "execution_count": null,
   "metadata": {},
   "outputs": [],
   "source": []
  }
 ],
 "metadata": {
  "kernelspec": {
   "display_name": "Python 3",
   "language": "python",
   "name": "python3"
  },
  "language_info": {
   "codemirror_mode": {
    "name": "ipython",
    "version": 3
   },
   "file_extension": ".py",
   "mimetype": "text/x-python",
   "name": "python",
   "nbconvert_exporter": "python",
   "pygments_lexer": "ipython3",
   "version": "3.6.3"
  }
 },
 "nbformat": 4,
 "nbformat_minor": 2
}
